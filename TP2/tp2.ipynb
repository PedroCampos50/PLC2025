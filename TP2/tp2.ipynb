{
 "cells": [
  {
   "cell_type": "markdown",
   "id": "2d64df01",
   "metadata": {},
   "source": [
    "## TPC2: Conversor de MarkDown para HTML"
   ]
  },
  {
   "cell_type": "code",
   "execution_count": null,
   "id": "51d1f66f",
   "metadata": {},
   "outputs": [],
   "source": [
    "import re"
   ]
  },
  {
   "cell_type": "markdown",
   "id": "c483b77f",
   "metadata": {},
   "source": [
    "### Cabeçalhos: linhas iniciadas por \"# texto\", ou \"## texto\" ou \"### texto\"\n",
    "\n",
    "In: `# Exemplo`\n",
    "\n",
    "Out: `<h1>Exemplo</h1>`"
   ]
  },
  {
   "cell_type": "code",
   "execution_count": 30,
   "id": "b903a47a",
   "metadata": {},
   "outputs": [
    {
     "name": "stdout",
     "output_type": "stream",
     "text": [
      "<h1>Exemplo</h1>\n",
      "<h2>Exemplo2</h2>\n",
      "<h3>Exemplo3</h3>\n"
     ]
    }
   ],
   "source": [
    "line1=\"# Exemplo\"\n",
    "line2=\"## Exemplo2\"\n",
    "line3=\"### Exemplo3\"\n",
    "\n",
    "\n",
    "def cab(line):\n",
    "    if re.match(r\"^# (.*)\", line):\n",
    "        res1=re.sub(r\"^# (.*)\",r\"<h1>\\1</h1>\",line)\n",
    "        return res1\n",
    "    if re.match(r\"^## (.*)\", line):\n",
    "        res1=re.sub(r\"^## (.*)\",r\"<h2>\\1</h2>\",line)\n",
    "        return res1\n",
    "    if re.match(r\"^### (.*)\", line):\n",
    "        res1=re.sub(r\"^### (.*)\",r\"<h3>\\1</h3>\",line)\n",
    "        return res1\n",
    "\n",
    "print(cab(line1))\n",
    "print(cab(line2))\n",
    "print(cab(line3))"
   ]
  },
  {
   "cell_type": "markdown",
   "id": "8a882ca4",
   "metadata": {},
   "source": [
    "### Bold: pedaços de texto entre \"**\":\n",
    "\n",
    "In: `Este é um **exemplo** ...`\n",
    "\n",
    "Out: `Este é um <b>exemplo</b> ...`"
   ]
  },
  {
   "cell_type": "code",
   "execution_count": 9,
   "id": "5cbfd01e",
   "metadata": {},
   "outputs": [
    {
     "name": "stdout",
     "output_type": "stream",
     "text": [
      "<b>Exemplo</b>\n"
     ]
    }
   ],
   "source": [
    "line1=\"**Exemplo**\"\n",
    "\n",
    "def bd(line):\n",
    "    if re.match(r\"\\*\\*(.*)\\*\\*\",line):\n",
    "        res2=re.sub(r\"\\*\\*(.*)\\*\\*\",r\"<b>\\1</b>\",line)\n",
    "        return res2\n",
    "\n",
    "print(bd(line1))\n"
   ]
  },
  {
   "cell_type": "markdown",
   "id": "134f0ba1",
   "metadata": {},
   "source": [
    "### Itálico: pedaços de texto entre \"*\":\n",
    "\n",
    "In: `Este é um *exemplo* ...`\n",
    "\n",
    "Out: `Este é um <i>exemplo</i> ...`"
   ]
  },
  {
   "cell_type": "code",
   "execution_count": 12,
   "id": "6280380c",
   "metadata": {},
   "outputs": [
    {
     "name": "stdout",
     "output_type": "stream",
     "text": [
      "<i>Exemplo</i>\n"
     ]
    }
   ],
   "source": [
    "line1=\"*Exemplo*\"\n",
    "\n",
    "\n",
    "def it(line):\n",
    "    if re.match(r\"\\*(.*)\\*\",line):\n",
    "        res3=re.sub(r\"\\*(.*)\\*\",r\"<i>\\1</i>\",line)\n",
    "        return res3\n",
    "    \n",
    "print(it(line1))"
   ]
  },
  {
   "cell_type": "markdown",
   "id": "c3d7d123",
   "metadata": {},
   "source": [
    "### Lista numerada:\n",
    "\n",
    "In:\n",
    "```\n",
    "1. Primeiro item\n",
    "2. Segundo item\n",
    "3. Terceiro item\n",
    "```\n",
    "\n",
    "Out:\n",
    "```\n",
    "<ol>\n",
    "<li>Primeiro item</li>\n",
    "<li>Segundo item</li>\n",
    "<li>Terceiro item</li>\n",
    "</ol>\n",
    "```"
   ]
  },
  {
   "cell_type": "code",
   "execution_count": 22,
   "id": "40053ccb",
   "metadata": {},
   "outputs": [
    {
     "name": "stdout",
     "output_type": "stream",
     "text": [
      "<ol>\n",
      "<li>Primeiro item</li>\n",
      "<li>Segundo item</li>\n",
      "<li>Terceiro item</li>\n",
      "</ol>\n"
     ]
    }
   ],
   "source": [
    "text1 =\"\"\"\n",
    "1. Primeiro item\n",
    "2. Segundo item\n",
    "3. Terceiro item\n",
    "\"\"\"\n",
    "\n",
    "def res(text):\n",
    "    linhas =text.splitlines()\n",
    "    final=[]\n",
    "    for linha in linhas:\n",
    "        r=re.match(r\"\\d+\\.\\s+(.*)\",linha)\n",
    "        if r:\n",
    "            final.append(f\"<li>{r.group(1)}</li>\")\n",
    "    return \"<ol>\\n\"+\"\\n\".join(final)+\"\\n</ol>\"\n",
    "\n",
    "print(res(text1))\n",
    "    "
   ]
  },
  {
   "cell_type": "markdown",
   "id": "9664f27a",
   "metadata": {},
   "source": [
    "### Link: [texto](endereço URL)\n",
    "\n",
    "In: `Como pode ser consultado em [página da UC](http://www.uc.pt)`\n",
    "\n",
    "Out: `Como pode ser consultado em <a href=\"http://www.uc.pt\">página da UC</a>`"
   ]
  },
  {
   "cell_type": "code",
   "execution_count": 23,
   "id": "000dfb75",
   "metadata": {},
   "outputs": [
    {
     "name": "stdout",
     "output_type": "stream",
     "text": [
      "Como pode ser consultado em <a href=\"http://www.uc.pt\">página da UC</a>\n"
     ]
    }
   ],
   "source": [
    "text1=\"Como pode ser consultado em [página da UC](http://www.uc.pt)\"\n",
    "\n",
    "def lk(text):\n",
    "    if re.match(r\"(.*)\\[(.*)\\]\\((.*)\\)\",text):\n",
    "        res4=re.sub(r\"(.*)\\[(.*)\\]\\((.*)\\)\",r'\\1<a href=\"\\3\">\\2</a>',text)\n",
    "        return res4\n",
    "    \n",
    "print(lk(text1))"
   ]
  },
  {
   "cell_type": "markdown",
   "id": "c990c192",
   "metadata": {},
   "source": [
    "### Imagem: ![texto alternativo](path para a imagem)\n",
    "\n",
    "In: Como se vê na imagem seguinte: `![imagem dum coelho](http://www.coellho.com) ...`\n",
    "\n",
    "Out: `Como se vê na imagem seguinte: <img src=\"http://www.coellho.com\" alt=\"imagem dum coelho\"/> ...`"
   ]
  },
  {
   "cell_type": "code",
   "execution_count": 28,
   "id": "56f8c8bb",
   "metadata": {},
   "outputs": [
    {
     "name": "stdout",
     "output_type": "stream",
     "text": [
      "Como se vê na imagem seguinte: <img src=\"http://www.coelho.com\"alt=imagem dum coelho/> ...\n"
     ]
    }
   ],
   "source": [
    "text1=\"Como se vê na imagem seguinte: ![imagem dum coelho](http://www.coelho.com) ...\"\n",
    "\n",
    "def res(text):\n",
    "    if re.match(r\"(.*)\\!\\[(.*)\\]\\((.*)\\)\",text):\n",
    "        res5=re.sub(r\"(.*)\\!\\[(.*)\\]\\((.*)\\)\",r'\\1<img src=\"\\3\"alt=\\2/>',text)\n",
    "        return res5\n",
    "    \n",
    "print(res(text1))"
   ]
  }
 ],
 "metadata": {
  "kernelspec": {
   "display_name": "Python 3",
   "language": "python",
   "name": "python3"
  },
  "language_info": {
   "codemirror_mode": {
    "name": "ipython",
    "version": 3
   },
   "file_extension": ".py",
   "mimetype": "text/x-python",
   "name": "python",
   "nbconvert_exporter": "python",
   "pygments_lexer": "ipython3",
   "version": "3.12.3"
  }
 },
 "nbformat": 4,
 "nbformat_minor": 5
}
